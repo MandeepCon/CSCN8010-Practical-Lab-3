{
 "cells": [
  {
   "cell_type": "markdown",
   "id": "9c89ebae",
   "metadata": {},
   "source": [
    "## **Practical Lab 3 - Vanilla CNN and Fine-Tune VGG16 - for Dogs and Cats Classification**\n",
    "\n",
    "**Name:** Mandeep Singh Brar        \n",
    "**Student ID:** 8989367     \n",
    "**Course Name:** Foundations of Machine Learning Frameworks         \n",
    "**Course No:** CSCN8010 \n"
   ]
  },
  {
   "cell_type": "markdown",
   "id": "85820352",
   "metadata": {},
   "source": [
    "#### **Introduction**\n",
    "\n",
    "In this lab, I will explore the task of image classification by building a model that can distinguish between images of dogs and cats. \n",
    "\n",
    "To understand the strengths of different modeling approaches, I will implement two models:\n",
    "\n",
    "- A Vanilla CNN built from scratch to grasp the core mechanics of convolutional networks.\n",
    "\n",
    "- A Fine-Tuned VGG16 model that applies transfer learning using pre-trained ImageNet weights.\n",
    "\n",
    "Through this process, I aim to deepen my understanding of deep learning workflows, including data preprocessing, model training, evaluation, and fine-tuning. I will evaluate both models using accuracy, precision, recall, F1-score, and confusion matrix to determine which approach performs best for this binary classification task."
   ]
  },
  {
   "cell_type": "markdown",
   "id": "44b0104e",
   "metadata": {},
   "source": [
    "### **EDA: Explore the data with relevant graphs, statistics and insights**\n"
   ]
  }
 ],
 "metadata": {
  "kernelspec": {
   "display_name": "life",
   "language": "python",
   "name": "python3"
  },
  "language_info": {
   "codemirror_mode": {
    "name": "ipython",
    "version": 3
   },
   "file_extension": ".py",
   "mimetype": "text/x-python",
   "name": "python",
   "nbconvert_exporter": "python",
   "pygments_lexer": "ipython3",
   "version": "3.9.18"
  }
 },
 "nbformat": 4,
 "nbformat_minor": 5
}
